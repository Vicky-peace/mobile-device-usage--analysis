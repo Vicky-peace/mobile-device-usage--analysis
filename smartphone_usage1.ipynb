{
  "nbformat": 4,
  "nbformat_minor": 0,
  "metadata": {
    "colab": {
      "provenance": [],
      "authorship_tag": "ABX9TyMdY62XuRXV6Dv7oQMVfIk8",
      "include_colab_link": true
    },
    "kernelspec": {
      "name": "python3",
      "display_name": "Python 3"
    },
    "language_info": {
      "name": "python"
    }
  },
  "cells": [
    {
      "cell_type": "markdown",
      "metadata": {
        "id": "view-in-github",
        "colab_type": "text"
      },
      "source": [
        "<a href=\"https://colab.research.google.com/github/jelimo-charity/smartphone-usage-analysis/blob/main/smartphone_usage1.ipynb\" target=\"_parent\"><img src=\"https://colab.research.google.com/assets/colab-badge.svg\" alt=\"Open In Colab\"/></a>"
      ]
    },
    {
      "cell_type": "markdown",
      "source": [
        "# **Install opendatasets**"
      ],
      "metadata": {
        "id": "f8aZAivyvUOs"
      }
    },
    {
      "cell_type": "code",
      "execution_count": null,
      "metadata": {
        "colab": {
          "base_uri": "https://localhost:8080/"
        },
        "id": "0Ssz9dZptIwD",
        "outputId": "5a36ce2c-b7e9-4722-9346-42ae1ad4834d"
      },
      "outputs": [
        {
          "output_type": "stream",
          "name": "stdout",
          "text": [
            "Collecting opendatasets\n",
            "  Downloading opendatasets-0.1.22-py3-none-any.whl.metadata (9.2 kB)\n",
            "Requirement already satisfied: tqdm in /usr/local/lib/python3.10/dist-packages (from opendatasets) (4.66.6)\n",
            "Requirement already satisfied: kaggle in /usr/local/lib/python3.10/dist-packages (from opendatasets) (1.6.17)\n",
            "Requirement already satisfied: click in /usr/local/lib/python3.10/dist-packages (from opendatasets) (8.1.7)\n",
            "Requirement already satisfied: six>=1.10 in /usr/local/lib/python3.10/dist-packages (from kaggle->opendatasets) (1.16.0)\n",
            "Requirement already satisfied: certifi>=2023.7.22 in /usr/local/lib/python3.10/dist-packages (from kaggle->opendatasets) (2024.8.30)\n",
            "Requirement already satisfied: python-dateutil in /usr/local/lib/python3.10/dist-packages (from kaggle->opendatasets) (2.8.2)\n",
            "Requirement already satisfied: requests in /usr/local/lib/python3.10/dist-packages (from kaggle->opendatasets) (2.32.3)\n",
            "Requirement already satisfied: python-slugify in /usr/local/lib/python3.10/dist-packages (from kaggle->opendatasets) (8.0.4)\n",
            "Requirement already satisfied: urllib3 in /usr/local/lib/python3.10/dist-packages (from kaggle->opendatasets) (2.2.3)\n",
            "Requirement already satisfied: bleach in /usr/local/lib/python3.10/dist-packages (from kaggle->opendatasets) (6.1.0)\n",
            "Requirement already satisfied: webencodings in /usr/local/lib/python3.10/dist-packages (from bleach->kaggle->opendatasets) (0.5.1)\n",
            "Requirement already satisfied: text-unidecode>=1.3 in /usr/local/lib/python3.10/dist-packages (from python-slugify->kaggle->opendatasets) (1.3)\n",
            "Requirement already satisfied: charset-normalizer<4,>=2 in /usr/local/lib/python3.10/dist-packages (from requests->kaggle->opendatasets) (3.4.0)\n",
            "Requirement already satisfied: idna<4,>=2.5 in /usr/local/lib/python3.10/dist-packages (from requests->kaggle->opendatasets) (3.10)\n",
            "Downloading opendatasets-0.1.22-py3-none-any.whl (15 kB)\n",
            "Installing collected packages: opendatasets\n",
            "Successfully installed opendatasets-0.1.22\n"
          ]
        }
      ],
      "source": [
        "!pip install opendatasets"
      ]
    },
    {
      "cell_type": "markdown",
      "source": [
        "# **Load the dataset to use**"
      ],
      "metadata": {
        "id": "IjyNxoENvpFp"
      }
    },
    {
      "cell_type": "code",
      "source": [
        "import opendatasets as od\n",
        "od.download(\"https://www.kaggle.com/datasets/bhadramohit/smartphone-usage-and-behavioral-dataset\")"
      ],
      "metadata": {
        "colab": {
          "base_uri": "https://localhost:8080/"
        },
        "id": "0Ow9OC3Stt5g",
        "outputId": "343a2520-43ca-45bb-8de3-a012cf485140"
      },
      "execution_count": null,
      "outputs": [
        {
          "output_type": "stream",
          "name": "stdout",
          "text": [
            "Please provide your Kaggle credentials to download this dataset. Learn more: http://bit.ly/kaggle-creds\n",
            "Your Kaggle username: charityjelimo\n",
            "Your Kaggle Key: ··········\n",
            "Dataset URL: https://www.kaggle.com/datasets/bhadramohit/smartphone-usage-and-behavioral-dataset\n",
            "Downloading smartphone-usage-and-behavioral-dataset.zip to ./smartphone-usage-and-behavioral-dataset\n"
          ]
        },
        {
          "output_type": "stream",
          "name": "stderr",
          "text": [
            "100%|██████████| 16.7k/16.7k [00:00<00:00, 13.5MB/s]"
          ]
        },
        {
          "output_type": "stream",
          "name": "stdout",
          "text": [
            "\n"
          ]
        },
        {
          "output_type": "stream",
          "name": "stderr",
          "text": [
            "\n"
          ]
        }
      ]
    },
    {
      "cell_type": "markdown",
      "source": [
        "# **Read the data and print**"
      ],
      "metadata": {
        "id": "4dMH5EhAv2Iq"
      }
    },
    {
      "cell_type": "code",
      "source": [
        "import pandas as pd\n",
        "data = pd.read_csv(\"/content/smartphone-usage-and-behavioral-dataset/mobile_usage_behavioral_analysis.csv\")"
      ],
      "metadata": {
        "id": "K4S2EQ8WuoxD"
      },
      "execution_count": null,
      "outputs": []
    },
    {
      "cell_type": "code",
      "source": [
        "print(data)"
      ],
      "metadata": {
        "colab": {
          "base_uri": "https://localhost:8080/"
        },
        "id": "glimxcQCvAXx",
        "outputId": "a5ed191a-4ff0-4dee-a306-84e89bafcddc"
      },
      "execution_count": null,
      "outputs": [
        {
          "output_type": "stream",
          "name": "stdout",
          "text": [
            "     User_ID  Age  Gender  Total_App_Usage_Hours  Daily_Screen_Time_Hours  \\\n",
            "0          1   56    Male                   2.61                     7.15   \n",
            "1          2   46    Male                   2.13                    13.79   \n",
            "2          3   32  Female                   7.28                     4.50   \n",
            "3          4   25  Female                   1.20                     6.29   \n",
            "4          5   38    Male                   6.31                    12.59   \n",
            "..       ...  ...     ...                    ...                      ...   \n",
            "995      996   41  Female                   3.58                    12.46   \n",
            "996      997   32    Male                   9.65                    10.51   \n",
            "997      998   46  Female                  11.68                    10.06   \n",
            "998      999   25    Male                   3.89                    10.78   \n",
            "999     1000   22  Female                   3.99                     7.05   \n",
            "\n",
            "     Number_of_Apps_Used  Social_Media_Usage_Hours  \\\n",
            "0                     24                      4.43   \n",
            "1                     18                      4.67   \n",
            "2                     11                      4.58   \n",
            "3                     21                      3.18   \n",
            "4                     14                      3.15   \n",
            "..                   ...                       ...   \n",
            "995                   13                      4.12   \n",
            "996                   11                      1.02   \n",
            "997                    9                      2.35   \n",
            "998                   15                      4.00   \n",
            "999                    4                      0.90   \n",
            "\n",
            "     Productivity_App_Usage_Hours  Gaming_App_Usage_Hours     Location  \n",
            "0                            0.55                    2.40  Los Angeles  \n",
            "1                            4.42                    2.43      Chicago  \n",
            "2                            1.71                    2.83      Houston  \n",
            "3                            3.42                    4.58      Phoenix  \n",
            "4                            0.13                    4.00     New York  \n",
            "..                            ...                     ...          ...  \n",
            "995                          2.44                    1.33  Los Angeles  \n",
            "996                          1.02                    3.84  Los Angeles  \n",
            "997                          3.13                    1.03      Phoenix  \n",
            "998                          1.79                    1.61      Phoenix  \n",
            "999                          4.98                    2.33      Phoenix  \n",
            "\n",
            "[1000 rows x 10 columns]\n"
          ]
        }
      ]
    }
  ]
}